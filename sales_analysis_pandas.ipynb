import pandas as pd
import matplotlib.pyplot as plt
import seaborn as sns
import numpy as np

# -------------------------------
# 1. Load the Excel File
# -------------------------------
df = pd.read_excel("Sales_Data_Basic.xlsx")

# -------------------------------
# 2. Clean & Prepare Columns
# -------------------------------
df["Date"] = pd.to_datetime(df["Date"])  # Convert Date

# Add missing columns if they don't exist
if "Discount" not in df.columns:
    df["Discount"] = np.random.uniform(0.05, 0.3, size=len(df))  # Random discounts

if "Customer" not in df.columns:
    df["Customer"] = np.random.choice(["Retail", "Wholesale"], size=len(df))  # Fake Customer Type

# Set Seaborn Style
sns.set(style="whitegrid")

# -------------------------------
# 3. Bar Chart – Total Sales by Product
# -------------------------------
sales_by_product = df.groupby("Product")["Sales"].sum().sort_values(ascending=False)

plt.figure(figsize=(8, 5))
sns.barplot(x=sales_by_product.index, y=sales_by_product.values)
plt.title("Total Sales by Product")
plt.xlabel("Product")
plt.ylabel("Sales")
plt.xticks(rotation=45)
plt.tight_layout()
plt.show()

# -------------------------------
# 4. Line Chart – Profit Over Time
# -------------------------------
profit_trend = df.groupby("Date")["Profit"].sum()

plt.figure(figsize=(10, 5))
sns.lineplot(x=profit_trend.index, y=profit_trend.values, marker="o")
plt.title("Profit Trend Over Time")
plt.xlabel("Date")
plt.ylabel("Profit")
plt.xticks(rotation=45)
plt.tight_layout()
plt.show()

# -------------------------------
# 5. Pie Chart – Product Distribution
# -------------------------------
product_share = df["Product"].value_counts()

plt.figure(figsize=(6, 6))
product_share.plot.pie(autopct='%1.1f%%', startangle=90)
plt.title("Product Distribution")
plt.ylabel("")
plt.tight_layout()
plt.show()

# -------------------------------
# 6. Heatmap – Avg Discount by Product & Customer Type
# -------------------------------
pivot = df.pivot_table(index="Product", columns="Customer", values="Discount", aggfunc="mean")

plt.figure(figsize=(8, 5))
sns.heatmap(pivot, annot=True, cmap="YlGnBu")
plt.title("Average Discount per Product by Customer Type")
plt.tight_layout()
plt.show()
